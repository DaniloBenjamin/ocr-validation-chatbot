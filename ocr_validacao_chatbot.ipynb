{
  "cells": [
    {
      "cell_type": "code",
      "execution_count": 1,
      "metadata": {
        "colab": {
          "base_uri": "https://localhost:8080/"
        },
        "id": "h8xPuBzPb-K0",
        "outputId": "599cc85a-2dd2-4e10-ae2d-cf31fa69679a"
      },
      "outputs": [
        {
          "name": "stdout",
          "output_type": "stream",
          "text": [
            "Requirement already satisfied: paddlepaddle in /usr/local/lib/python3.10/dist-packages (2.6.2)\n",
            "Requirement already satisfied: paddleocr in /usr/local/lib/python3.10/dist-packages (2.9.1)\n",
            "Requirement already satisfied: openai in /usr/local/lib/python3.10/dist-packages (1.52.2)\n",
            "Requirement already satisfied: pandas in /usr/local/lib/python3.10/dist-packages (2.2.2)\n",
            "Requirement already satisfied: openpyxl in /usr/local/lib/python3.10/dist-packages (3.1.5)\n",
            "Requirement already satisfied: httpx in /usr/local/lib/python3.10/dist-packages (from paddlepaddle) (0.27.2)\n",
            "Requirement already satisfied: numpy>=1.13 in /usr/local/lib/python3.10/dist-packages (from paddlepaddle) (1.26.4)\n",
            "Requirement already satisfied: Pillow in /usr/local/lib/python3.10/dist-packages (from paddlepaddle) (10.4.0)\n",
            "Requirement already satisfied: decorator in /usr/local/lib/python3.10/dist-packages (from paddlepaddle) (4.4.2)\n",
            "Requirement already satisfied: astor in /usr/local/lib/python3.10/dist-packages (from paddlepaddle) (0.8.1)\n",
            "Requirement already satisfied: opt-einsum==3.3.0 in /usr/local/lib/python3.10/dist-packages (from paddlepaddle) (3.3.0)\n",
            "Requirement already satisfied: protobuf>=3.20.2 in /usr/local/lib/python3.10/dist-packages (from paddlepaddle) (3.20.3)\n",
            "Requirement already satisfied: shapely in /usr/local/lib/python3.10/dist-packages (from paddleocr) (2.0.6)\n",
            "Requirement already satisfied: scikit-image in /usr/local/lib/python3.10/dist-packages (from paddleocr) (0.24.0)\n",
            "Requirement already satisfied: imgaug in /usr/local/lib/python3.10/dist-packages (from paddleocr) (0.4.0)\n",
            "Requirement already satisfied: pyclipper in /usr/local/lib/python3.10/dist-packages (from paddleocr) (1.3.0.post6)\n",
            "Requirement already satisfied: lmdb in /usr/local/lib/python3.10/dist-packages (from paddleocr) (1.5.1)\n",
            "Requirement already satisfied: tqdm in /usr/local/lib/python3.10/dist-packages (from paddleocr) (4.66.5)\n",
            "Requirement already satisfied: rapidfuzz in /usr/local/lib/python3.10/dist-packages (from paddleocr) (3.10.1)\n",
            "Requirement already satisfied: opencv-python in /usr/local/lib/python3.10/dist-packages (from paddleocr) (4.10.0.84)\n",
            "Requirement already satisfied: opencv-contrib-python in /usr/local/lib/python3.10/dist-packages (from paddleocr) (4.10.0.84)\n",
            "Requirement already satisfied: cython in /usr/local/lib/python3.10/dist-packages (from paddleocr) (3.0.11)\n",
            "Requirement already satisfied: pyyaml in /usr/local/lib/python3.10/dist-packages (from paddleocr) (6.0.2)\n",
            "Requirement already satisfied: python-docx in /usr/local/lib/python3.10/dist-packages (from paddleocr) (1.1.2)\n",
            "Requirement already satisfied: beautifulsoup4 in /usr/local/lib/python3.10/dist-packages (from paddleocr) (4.12.3)\n",
            "Requirement already satisfied: fonttools>=4.24.0 in /usr/local/lib/python3.10/dist-packages (from paddleocr) (4.54.1)\n",
            "Requirement already satisfied: fire>=0.3.0 in /usr/local/lib/python3.10/dist-packages (from paddleocr) (0.7.0)\n",
            "Requirement already satisfied: requests in /usr/local/lib/python3.10/dist-packages (from paddleocr) (2.32.3)\n",
            "Requirement already satisfied: albumentations==1.4.10 in /usr/local/lib/python3.10/dist-packages (from paddleocr) (1.4.10)\n",
            "Requirement already satisfied: albucore==0.0.13 in /usr/local/lib/python3.10/dist-packages (from paddleocr) (0.0.13)\n",
            "Requirement already satisfied: tomli>=2.0.1 in /usr/local/lib/python3.10/dist-packages (from albucore==0.0.13->paddleocr) (2.0.2)\n",
            "Requirement already satisfied: typing-extensions>=4.9.0 in /usr/local/lib/python3.10/dist-packages (from albucore==0.0.13->paddleocr) (4.12.2)\n",
            "Requirement already satisfied: opencv-python-headless>=4.9.0.80 in /usr/local/lib/python3.10/dist-packages (from albucore==0.0.13->paddleocr) (4.10.0.84)\n",
            "Requirement already satisfied: scipy>=1.10.0 in /usr/local/lib/python3.10/dist-packages (from albumentations==1.4.10->paddleocr) (1.13.1)\n",
            "Requirement already satisfied: scikit-learn>=1.3.2 in /usr/local/lib/python3.10/dist-packages (from albumentations==1.4.10->paddleocr) (1.5.2)\n",
            "Requirement already satisfied: pydantic>=2.7.0 in /usr/local/lib/python3.10/dist-packages (from albumentations==1.4.10->paddleocr) (2.9.2)\n",
            "Requirement already satisfied: anyio<5,>=3.5.0 in /usr/local/lib/python3.10/dist-packages (from openai) (3.7.1)\n",
            "Requirement already satisfied: distro<2,>=1.7.0 in /usr/lib/python3/dist-packages (from openai) (1.7.0)\n",
            "Requirement already satisfied: jiter<1,>=0.4.0 in /usr/local/lib/python3.10/dist-packages (from openai) (0.6.1)\n",
            "Requirement already satisfied: sniffio in /usr/local/lib/python3.10/dist-packages (from openai) (1.3.1)\n",
            "Requirement already satisfied: python-dateutil>=2.8.2 in /usr/local/lib/python3.10/dist-packages (from pandas) (2.8.2)\n",
            "Requirement already satisfied: pytz>=2020.1 in /usr/local/lib/python3.10/dist-packages (from pandas) (2024.2)\n",
            "Requirement already satisfied: tzdata>=2022.7 in /usr/local/lib/python3.10/dist-packages (from pandas) (2024.2)\n",
            "Requirement already satisfied: et-xmlfile in /usr/local/lib/python3.10/dist-packages (from openpyxl) (1.1.0)\n",
            "Requirement already satisfied: idna>=2.8 in /usr/local/lib/python3.10/dist-packages (from anyio<5,>=3.5.0->openai) (3.10)\n",
            "Requirement already satisfied: exceptiongroup in /usr/local/lib/python3.10/dist-packages (from anyio<5,>=3.5.0->openai) (1.2.2)\n",
            "Requirement already satisfied: termcolor in /usr/local/lib/python3.10/dist-packages (from fire>=0.3.0->paddleocr) (2.5.0)\n",
            "Requirement already satisfied: certifi in /usr/local/lib/python3.10/dist-packages (from httpx->paddlepaddle) (2024.8.30)\n",
            "Requirement already satisfied: httpcore==1.* in /usr/local/lib/python3.10/dist-packages (from httpx->paddlepaddle) (1.0.6)\n",
            "Requirement already satisfied: h11<0.15,>=0.13 in /usr/local/lib/python3.10/dist-packages (from httpcore==1.*->httpx->paddlepaddle) (0.14.0)\n",
            "Requirement already satisfied: annotated-types>=0.6.0 in /usr/local/lib/python3.10/dist-packages (from pydantic>=2.7.0->albumentations==1.4.10->paddleocr) (0.7.0)\n",
            "Requirement already satisfied: pydantic-core==2.23.4 in /usr/local/lib/python3.10/dist-packages (from pydantic>=2.7.0->albumentations==1.4.10->paddleocr) (2.23.4)\n",
            "Requirement already satisfied: six>=1.5 in /usr/local/lib/python3.10/dist-packages (from python-dateutil>=2.8.2->pandas) (1.16.0)\n",
            "Requirement already satisfied: networkx>=2.8 in /usr/local/lib/python3.10/dist-packages (from scikit-image->paddleocr) (3.4.2)\n",
            "Requirement already satisfied: imageio>=2.33 in /usr/local/lib/python3.10/dist-packages (from scikit-image->paddleocr) (2.35.1)\n",
            "Requirement already satisfied: tifffile>=2022.8.12 in /usr/local/lib/python3.10/dist-packages (from scikit-image->paddleocr) (2024.9.20)\n",
            "Requirement already satisfied: packaging>=21 in /usr/local/lib/python3.10/dist-packages (from scikit-image->paddleocr) (24.1)\n",
            "Requirement already satisfied: lazy-loader>=0.4 in /usr/local/lib/python3.10/dist-packages (from scikit-image->paddleocr) (0.4)\n",
            "Requirement already satisfied: soupsieve>1.2 in /usr/local/lib/python3.10/dist-packages (from beautifulsoup4->paddleocr) (2.6)\n",
            "Requirement already satisfied: matplotlib in /usr/local/lib/python3.10/dist-packages (from imgaug->paddleocr) (3.7.1)\n",
            "Requirement already satisfied: lxml>=3.1.0 in /usr/local/lib/python3.10/dist-packages (from python-docx->paddleocr) (4.9.4)\n",
            "Requirement already satisfied: charset-normalizer<4,>=2 in /usr/local/lib/python3.10/dist-packages (from requests->paddleocr) (3.4.0)\n",
            "Requirement already satisfied: urllib3<3,>=1.21.1 in /usr/local/lib/python3.10/dist-packages (from requests->paddleocr) (2.2.3)\n",
            "Requirement already satisfied: joblib>=1.2.0 in /usr/local/lib/python3.10/dist-packages (from scikit-learn>=1.3.2->albumentations==1.4.10->paddleocr) (1.4.2)\n",
            "Requirement already satisfied: threadpoolctl>=3.1.0 in /usr/local/lib/python3.10/dist-packages (from scikit-learn>=1.3.2->albumentations==1.4.10->paddleocr) (3.5.0)\n",
            "Requirement already satisfied: contourpy>=1.0.1 in /usr/local/lib/python3.10/dist-packages (from matplotlib->imgaug->paddleocr) (1.3.0)\n",
            "Requirement already satisfied: cycler>=0.10 in /usr/local/lib/python3.10/dist-packages (from matplotlib->imgaug->paddleocr) (0.12.1)\n",
            "Requirement already satisfied: kiwisolver>=1.0.1 in /usr/local/lib/python3.10/dist-packages (from matplotlib->imgaug->paddleocr) (1.4.7)\n",
            "Requirement already satisfied: pyparsing>=2.3.1 in /usr/local/lib/python3.10/dist-packages (from matplotlib->imgaug->paddleocr) (3.2.0)\n"
          ]
        }
      ],
      "source": [
        "!pip install paddlepaddle paddleocr openai pandas openpyxl\n",
        "!pip install pandas openai python-dotenv\n"
      ]
    },
    {
      "cell_type": "code",
      "execution_count": 2,
      "metadata": {
        "id": "ajTPbMSmcBXz"
      },
      "outputs": [],
      "source": [
        "from paddleocr import PaddleOCR\n",
        "import pandas as pd\n",
        "import openai\n",
        "import os\n",
        "import re\n",
        "from datetime import datetime\n"
      ]
    },
    {
      "cell_type": "code",
      "execution_count": 3,
      "metadata": {
        "colab": {
          "base_uri": "https://localhost:8080/"
        },
        "id": "AzB2AlKIcBhU",
        "outputId": "9d868950-f7af-4744-d578-fca597eaaffb"
      },
      "outputs": [
        {
          "name": "stdout",
          "output_type": "stream",
          "text": [
            "[2024/10/27 01:02:57] ppocr DEBUG: Namespace(help='==SUPPRESS==', use_gpu=False, use_xpu=False, use_npu=False, use_mlu=False, ir_optim=True, use_tensorrt=False, min_subgraph_size=15, precision='fp32', gpu_mem=500, gpu_id=0, image_dir=None, page_num=0, det_algorithm='DB', det_model_dir='/root/.paddleocr/whl/det/en/en_PP-OCRv3_det_infer', det_limit_side_len=960, det_limit_type='max', det_box_type='quad', det_db_thresh=0.3, det_db_box_thresh=0.6, det_db_unclip_ratio=1.5, max_batch_size=10, use_dilation=False, det_db_score_mode='fast', det_east_score_thresh=0.8, det_east_cover_thresh=0.1, det_east_nms_thresh=0.2, det_sast_score_thresh=0.5, det_sast_nms_thresh=0.2, det_pse_thresh=0, det_pse_box_thresh=0.85, det_pse_min_area=16, det_pse_scale=1, scales=[8, 16, 32], alpha=1.0, beta=1.0, fourier_degree=5, rec_algorithm='SVTR_LCNet', rec_model_dir='/root/.paddleocr/whl/rec/latin/latin_PP-OCRv3_rec_infer', rec_image_inverse=True, rec_image_shape='3, 48, 320', rec_batch_num=6, max_text_length=25, rec_char_dict_path='/usr/local/lib/python3.10/dist-packages/paddleocr/ppocr/utils/dict/latin_dict.txt', use_space_char=True, vis_font_path='./doc/fonts/simfang.ttf', drop_score=0.5, e2e_algorithm='PGNet', e2e_model_dir=None, e2e_limit_side_len=768, e2e_limit_type='max', e2e_pgnet_score_thresh=0.5, e2e_char_dict_path='./ppocr/utils/ic15_dict.txt', e2e_pgnet_valid_set='totaltext', e2e_pgnet_mode='fast', use_angle_cls=True, cls_model_dir='/root/.paddleocr/whl/cls/ch_ppocr_mobile_v2.0_cls_infer', cls_image_shape='3, 48, 192', label_list=['0', '180'], cls_batch_num=6, cls_thresh=0.9, enable_mkldnn=False, cpu_threads=10, use_pdserving=False, warmup=False, sr_model_dir=None, sr_image_shape='3, 32, 128', sr_batch_num=1, draw_img_save_dir='./inference_results', save_crop_res=False, crop_res_save_dir='./output', use_mp=False, total_process_num=1, process_id=0, benchmark=False, save_log_path='./log_output/', show_log=True, use_onnx=False, return_word_box=False, output='./output', table_max_len=488, table_algorithm='TableAttn', table_model_dir=None, merge_no_span_structure=True, table_char_dict_path=None, formula_algorithm='LaTeXOCR', formula_model_dir=None, formula_char_dict_path=None, formula_batch_num=1, layout_model_dir=None, layout_dict_path=None, layout_score_threshold=0.5, layout_nms_threshold=0.5, kie_algorithm='LayoutXLM', ser_model_dir=None, re_model_dir=None, use_visual_backbone=True, ser_dict_path='../train_data/XFUND/class_list_xfun.txt', ocr_order_method=None, mode='structure', image_orientation=False, layout=True, table=True, formula=False, ocr=True, recovery=False, recovery_to_markdown=False, use_pdf2docx_api=False, invert=False, binarize=False, alphacolor=(255, 255, 255), lang='pt', det=True, rec=True, type='ocr', savefile=False, ocr_version='PP-OCRv4', structure_version='PP-StructureV2')\n"
          ]
        }
      ],
      "source": [
        "ocr = PaddleOCR(lang='pt', use_angle_cls=True)\n",
        "\n",
        "def extrair_texto_com_coordenadas(caminho_imagem):\n",
        "    \"\"\"Extrai texto e coordenadas da imagem usando PaddleOCR.\"\"\"\n",
        "    resultado = ocr.ocr(caminho_imagem, cls=True)\n",
        "    dados = []\n",
        "    for linha in resultado[0]:\n",
        "        coordenadas = linha[0]\n",
        "        texto = linha[1][0]\n",
        "        dados.append({'coordenadas': coordenadas, 'texto': texto})\n",
        "    return dados\n"
      ]
    },
    {
      "cell_type": "markdown",
      "metadata": {
        "id": "mWaGc3IpcLZz"
      },
      "source": [
        "Extração CPF"
      ]
    },
    {
      "cell_type": "code",
      "execution_count": 4,
      "metadata": {
        "id": "x6j-zgx8cBno"
      },
      "outputs": [],
      "source": [
        "def identificar_cpf(dados_extraidos):\n",
        "    \"\"\"Identifica o CPF nos textos extraídos.\"\"\"\n",
        "    for item in dados_extraidos:\n",
        "        texto = item['texto']\n",
        "        if re.match(r'\\d{3}\\.\\d{3}\\.\\d{3}-\\d{2}', texto):\n",
        "            return texto.strip()\n",
        "    return \"CPF não encontrado\"\n"
      ]
    },
    {
      "cell_type": "markdown",
      "metadata": {
        "id": "w7mW9P_7cNMK"
      },
      "source": [
        "Extração Nome"
      ]
    },
    {
      "cell_type": "code",
      "execution_count": 5,
      "metadata": {
        "id": "J0R378dOcBr5"
      },
      "outputs": [],
      "source": [
        "def verificar_coordenadas(coordenadas, x_min, x_max, y_min, y_max):\n",
        "    \"\"\"Verifica se as coordenadas estão dentro dos limites definidos.\"\"\"\n",
        "    for ponto in coordenadas:\n",
        "        x, y = ponto\n",
        "        if not (x_min <= x <= x_max and y_min <= y <= y_max):\n",
        "            return False\n",
        "    return True\n",
        "\n",
        "def buscar_nome_com_loop(dados_extraidos):\n",
        "    \"\"\"Busca um nome válido dentro de uma faixa de coordenadas.\"\"\"\n",
        "    for x_min in range(100, 140):\n",
        "        for x_max in range(x_min + 1, 400):\n",
        "            for y_min in range(110, 140):\n",
        "                for y_max in range(y_min + 1, 170):\n",
        "                    for item in dados_extraidos:\n",
        "                        coordenadas = item['coordenadas']\n",
        "                        texto = item['texto']\n",
        "                        if verificar_coordenadas(coordenadas, x_min, x_max, y_min, y_max) and len(texto) > 5:\n",
        "                            return texto\n",
        "    return \"Nome não encontrado\"\n"
      ]
    },
    {
      "cell_type": "markdown",
      "metadata": {
        "id": "BdOhBmvPcO6A"
      },
      "source": [
        "Extração data de nascimento"
      ]
    },
    {
      "cell_type": "code",
      "execution_count": 6,
      "metadata": {
        "id": "u5YvFxu8cBvM"
      },
      "outputs": [],
      "source": [
        "def validar_data_nascimento(data_nascimento):\n",
        "    \"\"\"Valida se a diferença de anos entre a data e o ano atual é maior que 10.\"\"\"\n",
        "    try:\n",
        "        data = datetime.strptime(data_nascimento, \"%d/%m/%Y\")\n",
        "        ano_atual = datetime.now().year\n",
        "        return (ano_atual - data.year) > 10\n",
        "    except ValueError:\n",
        "        return False\n",
        "\n",
        "def buscar_data_nascimento_com_loop(dados_extraidos):\n",
        "    \"\"\"Busca uma data de nascimento válida nas coordenadas especificadas.\"\"\"\n",
        "    for x_min in range(490, 650):\n",
        "        for x_max in range(x_min + 1, 760):\n",
        "            for y_min in range(200, 270):\n",
        "                for y_max in range(y_min + 1, 300):\n",
        "                    for item in dados_extraidos:\n",
        "                        coordenadas = item['coordenadas']\n",
        "                        texto = item['texto']\n",
        "                        if verificar_coordenadas(coordenadas, x_min, x_max, y_min, y_max):\n",
        "                            if re.match(r'\\d{2}/\\d{2}/\\d{4}', texto) and validar_data_nascimento(texto):\n",
        "                                return texto\n",
        "    return \"Data de nascimento não encontrada\"\n"
      ]
    },
    {
      "cell_type": "markdown",
      "metadata": {
        "id": "gGa_SL_wcS9g"
      },
      "source": [
        "Processar Todas as CNHs e Extrair Informações"
      ]
    },
    {
      "cell_type": "code",
      "execution_count": 7,
      "metadata": {
        "colab": {
          "base_uri": "https://localhost:8080/"
        },
        "id": "yyLYmjEPcByK",
        "outputId": "b1fdd0a9-eee2-4676-ad0f-8998bca8b4c4"
      },
      "outputs": [
        {
          "name": "stdout",
          "output_type": "stream",
          "text": [
            "[2024/10/27 01:03:07] ppocr DEBUG: dt_boxes num : 38, elapsed : 0.3764381408691406\n",
            "[2024/10/27 01:03:07] ppocr DEBUG: cls num  : 38, elapsed : 0.11763525009155273\n",
            "[2024/10/27 01:03:09] ppocr DEBUG: rec_res num  : 38, elapsed : 1.6550533771514893\n",
            "[2024/10/27 01:03:21] ppocr DEBUG: dt_boxes num : 48, elapsed : 0.213090181350708\n",
            "[2024/10/27 01:03:21] ppocr DEBUG: cls num  : 48, elapsed : 0.1021888256072998\n",
            "[2024/10/27 01:03:25] ppocr DEBUG: rec_res num  : 48, elapsed : 3.387603998184204\n",
            "[2024/10/27 01:03:37] ppocr DEBUG: dt_boxes num : 46, elapsed : 0.19790101051330566\n",
            "[2024/10/27 01:03:37] ppocr DEBUG: cls num  : 46, elapsed : 0.11648416519165039\n",
            "[2024/10/27 01:03:39] ppocr DEBUG: rec_res num  : 46, elapsed : 1.8049798011779785\n",
            "[2024/10/27 01:03:52] ppocr DEBUG: dt_boxes num : 45, elapsed : 0.3746354579925537\n",
            "[2024/10/27 01:03:52] ppocr DEBUG: cls num  : 45, elapsed : 0.11721968650817871\n",
            "[2024/10/27 01:03:54] ppocr DEBUG: rec_res num  : 45, elapsed : 1.7167260646820068\n",
            "           arquivo                          nome             cpf  \\\n",
            "0  00000008_in.jpg      MILLIET FATREZI ELENILDO  916.127.920-06   \n",
            "1  00000001_in.jpg           PESSONIVALDILEI EMY  896.630.040-53   \n",
            "2  00000006_in.jpg  ESCRIFTORIO GALAS FONTENELLE  317.221.430-37   \n",
            "3  00000003_in.jpg         BOLZANIANGHINONIELTON  474.458.483-71   \n",
            "\n",
            "  data_nascimento data_extracao  \n",
            "0      02/02/1956    2024-10-27  \n",
            "1      14/05/1996    2024-10-27  \n",
            "2      14/10/1972    2024-10-27  \n",
            "3      15/05/1967    2024-10-27  \n"
          ]
        }
      ],
      "source": [
        "caminho_pasta = \"/content/cnh\"\n",
        "todas_as_informacoes = []\n",
        "\n",
        "for arquivo in os.listdir(caminho_pasta):\n",
        "    if arquivo.endswith(('.jpg', '.png', '.jpeg')):\n",
        "        caminho_imagem = os.path.join(caminho_pasta, arquivo)\n",
        "        dados_extraidos = extrair_texto_com_coordenadas(caminho_imagem)\n",
        "\n",
        "        nome = buscar_nome_com_loop(dados_extraidos)\n",
        "        cpf = identificar_cpf(dados_extraidos)\n",
        "        data_nascimento = buscar_data_nascimento_com_loop(dados_extraidos)\n",
        "\n",
        "        todas_as_informacoes.append({\n",
        "            'arquivo': arquivo,\n",
        "            'nome': nome,\n",
        "            'cpf': cpf,\n",
        "            'data_nascimento': data_nascimento\n",
        "        })\n",
        "\n",
        "df_cnh = pd.DataFrame(todas_as_informacoes)\n",
        "df_cnh['data_extracao'] = datetime.today().strftime('%Y-%m-%d')\n",
        "print(df_cnh)\n"
      ]
    },
    {
      "cell_type": "markdown",
      "metadata": {
        "id": "1KRm2SvLcWYV"
      },
      "source": [
        "Salvar em Excel Incremental"
      ]
    },
    {
      "cell_type": "code",
      "execution_count": 8,
      "metadata": {
        "id": "eee9TaIJcZX3"
      },
      "outputs": [],
      "source": [
        "def salvar_excel_incremental(df_novo, caminho_excel='dados_incrementais.xlsx'):\n",
        "    try:\n",
        "        df_existente = pd.read_excel(caminho_excel)\n",
        "        df_atualizado = pd.concat([df_existente, df_novo], ignore_index=True)\n",
        "    except FileNotFoundError:\n",
        "        df_atualizado = df_novo\n",
        "\n",
        "    df_atualizado.to_excel(caminho_excel, index=False)\n",
        "\n",
        "salvar_excel_incremental(df_cnh)\n"
      ]
    },
    {
      "cell_type": "markdown",
      "metadata": {
        "id": "YYSe0m0UcbRn"
      },
      "source": [
        "Verificar e Atualizar CPFs no Excel"
      ]
    },
    {
      "cell_type": "code",
      "execution_count": 11,
      "metadata": {
        "colab": {
          "base_uri": "https://localhost:8080/"
        },
        "id": "1C2670cmcbgL",
        "outputId": "e9107a3a-9cc2-418c-c4bb-044ecffff2a6"
      },
      "outputs": [
        {
          "name": "stdout",
          "output_type": "stream",
          "text": [
            "Atualização concluída! Total de registros no doc1.xlsx: 4\n"
          ]
        }
      ],
      "source": [
        "def atualizar_doc1(df_cnh, caminho_doc1='/content/arquivo/doc1.xlsx'):\n",
        "    \"\"\"Atualiza e acrescenta informações de CNHs no doc1.xlsx.\"\"\"\n",
        "    try:\n",
        "        # Ler o Excel existente\n",
        "        df_doc1 = pd.read_excel(caminho_doc1)\n",
        "    except FileNotFoundError:\n",
        "        # Se o Excel não existir, cria um DataFrame vazio\n",
        "        df_doc1 = pd.DataFrame(columns=['cpf', 'nome', 'local', 'data_nascimento', 'data_extracao'])\n",
        "\n",
        "    # Lista para armazenar novas CNHs que não estão no doc1.xlsx\n",
        "    novas_cnhs = []\n",
        "\n",
        "    # Iterar sobre as CNHs extraídas\n",
        "    for _, linha in df_cnh.iterrows():\n",
        "        cpf = linha['cpf']\n",
        "\n",
        "        # Se o CPF já está no doc1, atualiza as informações de local e data\n",
        "        if cpf in df_doc1['cpf'].values:\n",
        "            df_doc1.loc[df_doc1['cpf'] == cpf, ['data_nascimento', 'data_extracao']] = linha['data_nascimento'], linha['data_extracao']\n",
        "        else:\n",
        "            # Se o CPF não estiver no doc1, adiciona a CNH à lista de novas CNHs\n",
        "            novas_cnhs.append(linha)\n",
        "\n",
        "    # Adicionar novas CNHs ao DataFrame existente\n",
        "    if novas_cnhs:\n",
        "        df_novas_cnhs = pd.DataFrame(novas_cnhs)\n",
        "        df_doc1 = pd.concat([df_doc1, df_novas_cnhs], ignore_index=True)\n",
        "\n",
        "    # Salvar o DataFrame atualizado no Excel\n",
        "    df_doc1.to_excel(caminho_doc1, index=False)\n",
        "\n",
        "    print(f\"Atualização concluída! Total de registros no doc1.xlsx: {len(df_doc1)}\")\n",
        "\n",
        "# Atualizar ou adicionar novas CNHs no doc1.xlsx\n",
        "atualizar_doc1(df_cnh)\n"
      ]
    },
    {
      "cell_type": "markdown",
      "metadata": {
        "id": "gHboLBaTcf-2"
      },
      "source": [
        "Criar Chatbot com API do ChatGPT"
      ]
    },
    {
      "cell_type": "code",
      "execution_count": 33,
      "metadata": {
        "colab": {
          "base_uri": "https://localhost:8080/"
        },
        "id": "iz-ZuKzjmpgf",
        "outputId": "95d174eb-b42d-4686-8fbc-0a676883a813"
      },
      "outputs": [
        {
          "name": "stdout",
          "output_type": "stream",
          "text": [
            "Chatbot: Olá! Como posso te ajudar com os dados do Excel?\n",
            "Você: Qual é a data_nascimento do CPF 916.127.920-06?\n",
            "Chatbot: A data de nascimento do CPF 916.127.920-06 é 02/02/1956.\n",
            "Você: sair\n",
            "Chatbot: Até mais!\n"
          ]
        }
      ],
      "source": [
        "import pandas as pd\n",
        "import openai\n",
        "import os\n",
        "from dotenv import load_dotenv\n",
        "\n",
        "# Carregar a chave da API do OpenAI\n",
        "load_dotenv()\n",
        "openai.api_key = \"API_KEY\"\n",
        "\n",
        "# Carregar o Excel em um DataFrame\n",
        "df = pd.read_excel('/content/arquivo/doc1.xlsx')\n",
        "\n",
        "def gerar_resposta(pergunta):\n",
        "    \"\"\"\n",
        "    Gera uma resposta usando a API da OpenAI com base nos dados carregados.\n",
        "    \"\"\"\n",
        "    # Converter o DataFrame para string para que o modelo possa usá-lo\n",
        "    dados_str = df.to_string(index=False)\n",
        "\n",
        "    # Construir o prompt com os dados e a pergunta do usuário\n",
        "    prompt = f\"\"\"\n",
        "    Abaixo estão alguns dados em formato tabular:\n",
        "\n",
        "    {dados_str}\n",
        "\n",
        "    Baseado nesses dados, responda a seguinte pergunta:\n",
        "    {pergunta}\n",
        "    \"\"\"\n",
        "\n",
        "    # Chamada à API do OpenAI\n",
        "    try:\n",
        "        response = openai.chat.completions.create(\n",
        "            model=\"gpt-4\",\n",
        "            messages=[\n",
        "                {\"role\": \"system\", \"content\": \"Você é um assistente que responde perguntas com base em dados fornecidos.\"},\n",
        "                {\"role\": \"user\", \"content\": prompt}\n",
        "            ]\n",
        "        )\n",
        "        return response.choices[0].message.content.strip()\n",
        "    except Exception as e:\n",
        "        return f\"Ocorreu um erro: {str(e)}\"\n",
        "\n",
        "# Loop de interação do chatbot\n",
        "print(\"Chatbot: Olá! Como posso te ajudar com os dados do Excel?\")\n",
        "while True:\n",
        "    pergunta = input(\"Você: \")\n",
        "    if pergunta.lower() in ['sair', 'exit', 'quit']:\n",
        "        print(\"Chatbot: Até mais!\")\n",
        "        break\n",
        "    resposta = gerar_resposta(pergunta)\n",
        "    print(f\"Chatbot: {resposta}\")\n"
      ]
    },
    {
      "cell_type": "code",
      "execution_count": null,
      "metadata": {
        "id": "cfWu8ApYnWyz"
      },
      "outputs": [],
      "source": []
    }
  ],
  "metadata": {
    "colab": {
      "provenance": []
    },
    "kernelspec": {
      "display_name": "Python 3",
      "name": "python3"
    },
    "language_info": {
      "name": "python"
    }
  },
  "nbformat": 4,
  "nbformat_minor": 0
}
